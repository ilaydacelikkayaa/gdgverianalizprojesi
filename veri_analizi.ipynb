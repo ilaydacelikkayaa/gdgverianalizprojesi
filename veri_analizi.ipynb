{
 "cells": [
  {
   "cell_type": "code",
   "execution_count": 4,
   "id": "b387c9f3-7780-41be-807f-60605f91d32b",
   "metadata": {},
   "outputs": [],
   "source": [
    "import pandas as pd\n",
    "df=pd.read_csv(\"persona.csv\")"
   ]
  },
  {
   "cell_type": "markdown",
   "id": "bdda8cc4-e1e0-44e7-a9ed-63bc442d5fef",
   "metadata": {},
   "source": [
    "Görev 1-) persona.csv dosyasını\r\n",
    "okutunuz ve veri seti ile ilgili genel bilgileri\r\n",
    "gösteriniz"
   ]
  },
  {
   "cell_type": "code",
   "execution_count": 5,
   "id": "60f1fc8d-7f0c-4707-9833-e2fc14212330",
   "metadata": {},
   "outputs": [
    {
     "name": "stdout",
     "output_type": "stream",
     "text": [
      "<class 'pandas.core.frame.DataFrame'>\n",
      "Index: 5000 entries, 0 to 4999\n",
      "Data columns (total 5 columns):\n",
      " #   Column   Non-Null Count  Dtype \n",
      "---  ------   --------------  ----- \n",
      " 0   PRICE    5000 non-null   int64 \n",
      " 1   SOURCE   5000 non-null   object\n",
      " 2   SEX      5000 non-null   object\n",
      " 3   COUNTRY  5000 non-null   object\n",
      " 4   AGE      5000 non-null   int64 \n",
      "dtypes: int64(2), object(3)\n",
      "memory usage: 234.4+ KB\n"
     ]
    }
   ],
   "source": [
    "df.info()"
   ]
  },
  {
   "cell_type": "code",
   "execution_count": 23,
   "id": "9fbcde03-4263-4c0c-b6a3-aaae6de17b11",
   "metadata": {},
   "outputs": [
    {
     "data": {
      "text/html": [
       "<div>\n",
       "<style scoped>\n",
       "    .dataframe tbody tr th:only-of-type {\n",
       "        vertical-align: middle;\n",
       "    }\n",
       "\n",
       "    .dataframe tbody tr th {\n",
       "        vertical-align: top;\n",
       "    }\n",
       "\n",
       "    .dataframe thead th {\n",
       "        text-align: right;\n",
       "    }\n",
       "</style>\n",
       "<table border=\"1\" class=\"dataframe\">\n",
       "  <thead>\n",
       "    <tr style=\"text-align: right;\">\n",
       "      <th></th>\n",
       "      <th>PRICE</th>\n",
       "      <th>SOURCE</th>\n",
       "      <th>SEX</th>\n",
       "      <th>COUNTRY</th>\n",
       "      <th>AGE</th>\n",
       "    </tr>\n",
       "  </thead>\n",
       "  <tbody>\n",
       "    <tr>\n",
       "      <th>0</th>\n",
       "      <td>39</td>\n",
       "      <td>android</td>\n",
       "      <td>male</td>\n",
       "      <td>bra</td>\n",
       "      <td>17</td>\n",
       "    </tr>\n",
       "    <tr>\n",
       "      <th>1</th>\n",
       "      <td>39</td>\n",
       "      <td>android</td>\n",
       "      <td>male</td>\n",
       "      <td>bra</td>\n",
       "      <td>17</td>\n",
       "    </tr>\n",
       "    <tr>\n",
       "      <th>2</th>\n",
       "      <td>49</td>\n",
       "      <td>android</td>\n",
       "      <td>male</td>\n",
       "      <td>bra</td>\n",
       "      <td>17</td>\n",
       "    </tr>\n",
       "    <tr>\n",
       "      <th>3</th>\n",
       "      <td>29</td>\n",
       "      <td>android</td>\n",
       "      <td>male</td>\n",
       "      <td>tur</td>\n",
       "      <td>17</td>\n",
       "    </tr>\n",
       "    <tr>\n",
       "      <th>4</th>\n",
       "      <td>49</td>\n",
       "      <td>android</td>\n",
       "      <td>male</td>\n",
       "      <td>tur</td>\n",
       "      <td>17</td>\n",
       "    </tr>\n",
       "  </tbody>\n",
       "</table>\n",
       "</div>"
      ],
      "text/plain": [
       "   PRICE   SOURCE   SEX COUNTRY  AGE\n",
       "0     39  android  male     bra   17\n",
       "1     39  android  male     bra   17\n",
       "2     49  android  male     bra   17\n",
       "3     29  android  male     tur   17\n",
       "4     49  android  male     tur   17"
      ]
     },
     "execution_count": 23,
     "metadata": {},
     "output_type": "execute_result"
    }
   ],
   "source": [
    "df.head()"
   ]
  },
  {
   "cell_type": "code",
   "execution_count": 9,
   "id": "8a2fe686-4626-42d5-b296-6c27cdd91d87",
   "metadata": {},
   "outputs": [
    {
     "data": {
      "text/plain": [
       "PRICE      0\n",
       "SOURCE     0\n",
       "SEX        0\n",
       "COUNTRY    0\n",
       "AGE        0\n",
       "dtype: int64"
      ]
     },
     "execution_count": 9,
     "metadata": {},
     "output_type": "execute_result"
    }
   ],
   "source": [
    "df.isnull().sum()"
   ]
  },
  {
   "cell_type": "markdown",
   "id": "ec02986d-5248-4a0e-a5c4-c86aaa2ce129",
   "metadata": {},
   "source": [
    "Görev 2-)Toplam kaç farklı ülke var?"
   ]
  },
  {
   "cell_type": "code",
   "execution_count": 18,
   "id": "d9ac8f87-db07-47c9-8c36-a6785c8c5a88",
   "metadata": {},
   "outputs": [
    {
     "data": {
      "text/plain": [
       "6"
      ]
     },
     "execution_count": 18,
     "metadata": {},
     "output_type": "execute_result"
    }
   ],
   "source": [
    "df['COUNTRY'].nunique()"
   ]
  },
  {
   "cell_type": "code",
   "execution_count": 20,
   "id": "7fe04197-de22-4d1a-9bc1-5f0da3079c70",
   "metadata": {},
   "outputs": [
    {
     "data": {
      "text/plain": [
       "array(['bra', 'tur', 'usa', 'can', 'deu', 'fra'], dtype=object)"
      ]
     },
     "execution_count": 20,
     "metadata": {},
     "output_type": "execute_result"
    }
   ],
   "source": [
    "df['COUNTRY'].unique()"
   ]
  },
  {
   "cell_type": "markdown",
   "id": "272a2cd1-253d-4efc-9648-04dae4d76ae5",
   "metadata": {},
   "source": [
    "Görev 3-)En çok hangi cihaz kullanılıyor?\r\n"
   ]
  },
  {
   "cell_type": "code",
   "execution_count": 21,
   "id": "f6b39984-2b50-493a-b183-5db33030f15f",
   "metadata": {},
   "outputs": [
    {
     "data": {
      "text/plain": [
       "'ios'"
      ]
     },
     "execution_count": 21,
     "metadata": {},
     "output_type": "execute_result"
    }
   ],
   "source": [
    "df['SOURCE'].max()"
   ]
  },
  {
   "cell_type": "markdown",
   "id": "16b6c4bf-63d7-4814-ac08-bd13e2274560",
   "metadata": {},
   "source": [
    "Görev 4-)Yaş ortalaması nedir?\r\n"
   ]
  },
  {
   "cell_type": "code",
   "execution_count": 22,
   "id": "cb95bd46-b8fd-44ae-b724-5a8bf30ce525",
   "metadata": {},
   "outputs": [
    {
     "data": {
      "text/plain": [
       "23.5814"
      ]
     },
     "execution_count": 22,
     "metadata": {},
     "output_type": "execute_result"
    }
   ],
   "source": [
    "df['AGE'].mean()"
   ]
  },
  {
   "cell_type": "markdown",
   "id": "9ecc19d6-f4b9-4584-a9f2-d8d0c81ba620",
   "metadata": {},
   "source": [
    "Görev 5-)18-24 yaş arası kullanıcıların % kaçını erkekler oluşturuyor?\n"
   ]
  },
  {
   "cell_type": "code",
   "execution_count": 31,
   "id": "e42f39dc-902f-4520-a6a3-2dc8af23b52f",
   "metadata": {},
   "outputs": [
    {
     "name": "stdout",
     "output_type": "stream",
     "text": [
      "18-24 yaş arası kullanıcıların % 47.92'i erkek.\n"
     ]
    }
   ],
   "source": [
    "filtered_df = df[(df['AGE'] >= 18) & (df['AGE'] <= 24)]\n",
    "male_percentage = (filtered_df['SEX'].value_counts(normalize=True).get('male', 0)) * 100\n",
    "\n",
    "print(f\"18-24 yaş arası kullanıcıların % {male_percentage:.2f}'i erkek.\")\n"
   ]
  },
  {
   "cell_type": "markdown",
   "id": "87b14494-335c-42d4-ad08-fc89c170bb56",
   "metadata": {},
   "source": [
    "Görev 6-)Android kullanıcılarının\r\n",
    "ortalama harcaması nedir?"
   ]
  },
  {
   "cell_type": "code",
   "execution_count": 33,
   "id": "c42d3bc0-a7c4-4358-a065-72ac93e11573",
   "metadata": {},
   "outputs": [
    {
     "data": {
      "text/plain": [
       "34.17484868863483"
      ]
     },
     "execution_count": 33,
     "metadata": {},
     "output_type": "execute_result"
    }
   ],
   "source": [
    "df[df['SOURCE']=='android']['PRICE'].mean()"
   ]
  },
  {
   "cell_type": "markdown",
   "id": "32154c70-5b7c-4174-a64a-b9e8525a439d",
   "metadata": {},
   "source": [
    "Görev 7-)En yüksek harcamayı yapan\n",
    "5 kullanıcı kimlerdir?"
   ]
  },
  {
   "cell_type": "code",
   "execution_count": 37,
   "id": "f56eaf3f-9cff-49b8-9a93-845c1077fcc9",
   "metadata": {},
   "outputs": [
    {
     "data": {
      "text/html": [
       "<div>\n",
       "<style scoped>\n",
       "    .dataframe tbody tr th:only-of-type {\n",
       "        vertical-align: middle;\n",
       "    }\n",
       "\n",
       "    .dataframe tbody tr th {\n",
       "        vertical-align: top;\n",
       "    }\n",
       "\n",
       "    .dataframe thead th {\n",
       "        text-align: right;\n",
       "    }\n",
       "</style>\n",
       "<table border=\"1\" class=\"dataframe\">\n",
       "  <thead>\n",
       "    <tr style=\"text-align: right;\">\n",
       "      <th></th>\n",
       "      <th>PRICE</th>\n",
       "      <th>SOURCE</th>\n",
       "      <th>SEX</th>\n",
       "      <th>COUNTRY</th>\n",
       "      <th>AGE</th>\n",
       "    </tr>\n",
       "  </thead>\n",
       "  <tbody>\n",
       "    <tr>\n",
       "      <th>4503</th>\n",
       "      <td>59</td>\n",
       "      <td>ios</td>\n",
       "      <td>male</td>\n",
       "      <td>fra</td>\n",
       "      <td>15</td>\n",
       "    </tr>\n",
       "    <tr>\n",
       "      <th>995</th>\n",
       "      <td>59</td>\n",
       "      <td>android</td>\n",
       "      <td>male</td>\n",
       "      <td>usa</td>\n",
       "      <td>47</td>\n",
       "    </tr>\n",
       "    <tr>\n",
       "      <th>3343</th>\n",
       "      <td>59</td>\n",
       "      <td>android</td>\n",
       "      <td>male</td>\n",
       "      <td>tur</td>\n",
       "      <td>24</td>\n",
       "    </tr>\n",
       "    <tr>\n",
       "      <th>2294</th>\n",
       "      <td>59</td>\n",
       "      <td>android</td>\n",
       "      <td>male</td>\n",
       "      <td>fra</td>\n",
       "      <td>15</td>\n",
       "    </tr>\n",
       "    <tr>\n",
       "      <th>3716</th>\n",
       "      <td>59</td>\n",
       "      <td>ios</td>\n",
       "      <td>male</td>\n",
       "      <td>bra</td>\n",
       "      <td>16</td>\n",
       "    </tr>\n",
       "  </tbody>\n",
       "</table>\n",
       "</div>"
      ],
      "text/plain": [
       "      PRICE   SOURCE   SEX COUNTRY  AGE\n",
       "4503     59      ios  male     fra   15\n",
       "995      59  android  male     usa   47\n",
       "3343     59  android  male     tur   24\n",
       "2294     59  android  male     fra   15\n",
       "3716     59      ios  male     bra   16"
      ]
     },
     "execution_count": 37,
     "metadata": {},
     "output_type": "execute_result"
    }
   ],
   "source": [
    "df.sort_values(by='PRICE',ascending=False).head(5)"
   ]
  },
  {
   "cell_type": "markdown",
   "id": "9308dd18-843e-4084-ab6f-83ecfd0357e0",
   "metadata": {},
   "source": [
    "Görev 8-)Brazilya'daki kullanıcıların\n",
    "ortalama yaşı nedir?"
   ]
  },
  {
   "cell_type": "code",
   "execution_count": 38,
   "id": "fde90a91-c06a-4fdd-9294-072f46b6647a",
   "metadata": {},
   "outputs": [
    {
     "data": {
      "text/plain": [
       "23.96657754010695"
      ]
     },
     "execution_count": 38,
     "metadata": {},
     "output_type": "execute_result"
    }
   ],
   "source": [
    "df[df['COUNTRY']=='bra']['AGE'].mean()"
   ]
  },
  {
   "cell_type": "markdown",
   "id": "ab3ca81f-f191-4702-b851-beac3ff61461",
   "metadata": {},
   "source": [
    "Görev 9-)Ülke ve cihaz türüne göre\n",
    "kullanıcıları gruplayın ve her grubun\n",
    "ortalama harcamasını hesaplayın."
   ]
  },
  {
   "cell_type": "code",
   "execution_count": 41,
   "id": "a570dbab-ded5-4c6e-a68f-a0543fff3a79",
   "metadata": {},
   "outputs": [
    {
     "data": {
      "text/plain": [
       "COUNTRY  SOURCE \n",
       "bra      android    34.387029\n",
       "         ios        34.222222\n",
       "can      android    33.330709\n",
       "         ios        33.951456\n",
       "deu      android    33.869888\n",
       "         ios        34.268817\n",
       "fra      android    34.312500\n",
       "         ios        32.776224\n",
       "tur      android    36.229437\n",
       "         ios        33.272727\n",
       "usa      android    33.760357\n",
       "         ios        34.371703\n",
       "Name: PRICE, dtype: float64"
      ]
     },
     "execution_count": 41,
     "metadata": {},
     "output_type": "execute_result"
    }
   ],
   "source": [
    "df.groupby(['COUNTRY','SOURCE'])['PRICE'].mean()"
   ]
  },
  {
   "cell_type": "markdown",
   "id": "7d416923-5a4f-4c1b-808a-cee9503bc8ce",
   "metadata": {},
   "source": [
    "Görev 10-) Kaç unique SOURCE vardır?\n",
    "Frekansları nedir?"
   ]
  },
  {
   "cell_type": "code",
   "execution_count": 47,
   "id": "da24d8ad-0678-4279-9f8a-d2490042d85a",
   "metadata": {},
   "outputs": [
    {
     "name": "stdout",
     "output_type": "stream",
     "text": [
      "Unique SOURCE sayısı: 2\n",
      "SOURCE frekansları:\n",
      "SOURCE\n",
      "android    2974\n",
      "ios        2026\n",
      "Name: count, dtype: int64\n"
     ]
    }
   ],
   "source": [
    "source_counts = df['SOURCE'].value_counts()\n",
    "\n",
    "print(f\"Unique SOURCE sayısı: {df['SOURCE'].nunique()}\")\n",
    "print(\"SOURCE frekansları:\")\n",
    "print(source_counts)"
   ]
  },
  {
   "cell_type": "markdown",
   "id": "4d198219-1d37-4bec-8707-a69e9b33aa8c",
   "metadata": {},
   "source": [
    "Görev 11-)COUNTRY-SOURCE\n",
    "kırılımında PRICE ortalamaları nedir?-Görev 9 la aynı "
   ]
  },
  {
   "cell_type": "code",
   "execution_count": 48,
   "id": "b05bf174-ce08-40ae-864e-d234ebd5d8f1",
   "metadata": {},
   "outputs": [
    {
     "data": {
      "text/plain": [
       "COUNTRY  SOURCE \n",
       "bra      android    34.387029\n",
       "         ios        34.222222\n",
       "can      android    33.330709\n",
       "         ios        33.951456\n",
       "deu      android    33.869888\n",
       "         ios        34.268817\n",
       "fra      android    34.312500\n",
       "         ios        32.776224\n",
       "tur      android    36.229437\n",
       "         ios        33.272727\n",
       "usa      android    33.760357\n",
       "         ios        34.371703\n",
       "Name: PRICE, dtype: float64"
      ]
     },
     "execution_count": 48,
     "metadata": {},
     "output_type": "execute_result"
    }
   ],
   "source": [
    "df.groupby(['COUNTRY', 'SOURCE'])['PRICE'].mean()"
   ]
  },
  {
   "cell_type": "markdown",
   "id": "9de21a65-0b35-4fb5-b1f3-cc3177e962ae",
   "metadata": {},
   "source": [
    "\n",
    "Görev 12-)GÖREV 2: COUNTRY,\n",
    "SOURCE, SEX, AGE kırılımında ortalama\n",
    "kazançlar nedir?"
   ]
  },
  {
   "cell_type": "code",
   "execution_count": 49,
   "id": "430d5fb6-b9bd-46e6-a475-2e2a0773fce0",
   "metadata": {},
   "outputs": [
    {
     "data": {
      "text/plain": [
       "COUNTRY  SOURCE   SEX     AGE\n",
       "bra      android  female  15     38.714286\n",
       "                          16     35.944444\n",
       "                          17     35.666667\n",
       "                          18     32.255814\n",
       "                          19     35.206897\n",
       "                                   ...    \n",
       "usa      ios      male    42     30.250000\n",
       "                          50     39.000000\n",
       "                          53     34.000000\n",
       "                          55     29.000000\n",
       "                          59     46.500000\n",
       "Name: PRICE, Length: 348, dtype: float64"
      ]
     },
     "execution_count": 49,
     "metadata": {},
     "output_type": "execute_result"
    }
   ],
   "source": [
    "df.groupby(['COUNTRY','SOURCE','SEX','AGE'])['PRICE'].mean()"
   ]
  },
  {
   "cell_type": "markdown",
   "id": "026735f0-726f-4554-8a67-22ead5aa7eaf",
   "metadata": {},
   "source": [
    "Görev 13: Indekste yer alan isimleri\n",
    "değişken ismine çeviriniz."
   ]
  },
  {
   "cell_type": "code",
   "execution_count": 51,
   "id": "74f38e8f-3d91-432d-ba70-d7ea7c68226d",
   "metadata": {},
   "outputs": [
    {
     "data": {
      "text/html": [
       "<div>\n",
       "<style scoped>\n",
       "    .dataframe tbody tr th:only-of-type {\n",
       "        vertical-align: middle;\n",
       "    }\n",
       "\n",
       "    .dataframe tbody tr th {\n",
       "        vertical-align: top;\n",
       "    }\n",
       "\n",
       "    .dataframe thead th {\n",
       "        text-align: right;\n",
       "    }\n",
       "</style>\n",
       "<table border=\"1\" class=\"dataframe\">\n",
       "  <thead>\n",
       "    <tr style=\"text-align: right;\">\n",
       "      <th></th>\n",
       "      <th>index</th>\n",
       "      <th>PRICE</th>\n",
       "      <th>SOURCE</th>\n",
       "      <th>SEX</th>\n",
       "      <th>COUNTRY</th>\n",
       "      <th>AGE</th>\n",
       "    </tr>\n",
       "  </thead>\n",
       "  <tbody>\n",
       "    <tr>\n",
       "      <th>0</th>\n",
       "      <td>0</td>\n",
       "      <td>39</td>\n",
       "      <td>android</td>\n",
       "      <td>male</td>\n",
       "      <td>bra</td>\n",
       "      <td>17</td>\n",
       "    </tr>\n",
       "    <tr>\n",
       "      <th>1</th>\n",
       "      <td>1</td>\n",
       "      <td>39</td>\n",
       "      <td>android</td>\n",
       "      <td>male</td>\n",
       "      <td>bra</td>\n",
       "      <td>17</td>\n",
       "    </tr>\n",
       "    <tr>\n",
       "      <th>2</th>\n",
       "      <td>2</td>\n",
       "      <td>49</td>\n",
       "      <td>android</td>\n",
       "      <td>male</td>\n",
       "      <td>bra</td>\n",
       "      <td>17</td>\n",
       "    </tr>\n",
       "    <tr>\n",
       "      <th>3</th>\n",
       "      <td>3</td>\n",
       "      <td>29</td>\n",
       "      <td>android</td>\n",
       "      <td>male</td>\n",
       "      <td>tur</td>\n",
       "      <td>17</td>\n",
       "    </tr>\n",
       "    <tr>\n",
       "      <th>4</th>\n",
       "      <td>4</td>\n",
       "      <td>49</td>\n",
       "      <td>android</td>\n",
       "      <td>male</td>\n",
       "      <td>tur</td>\n",
       "      <td>17</td>\n",
       "    </tr>\n",
       "    <tr>\n",
       "      <th>...</th>\n",
       "      <td>...</td>\n",
       "      <td>...</td>\n",
       "      <td>...</td>\n",
       "      <td>...</td>\n",
       "      <td>...</td>\n",
       "      <td>...</td>\n",
       "    </tr>\n",
       "    <tr>\n",
       "      <th>4995</th>\n",
       "      <td>4995</td>\n",
       "      <td>29</td>\n",
       "      <td>android</td>\n",
       "      <td>female</td>\n",
       "      <td>bra</td>\n",
       "      <td>31</td>\n",
       "    </tr>\n",
       "    <tr>\n",
       "      <th>4996</th>\n",
       "      <td>4996</td>\n",
       "      <td>29</td>\n",
       "      <td>android</td>\n",
       "      <td>female</td>\n",
       "      <td>bra</td>\n",
       "      <td>31</td>\n",
       "    </tr>\n",
       "    <tr>\n",
       "      <th>4997</th>\n",
       "      <td>4997</td>\n",
       "      <td>29</td>\n",
       "      <td>android</td>\n",
       "      <td>female</td>\n",
       "      <td>bra</td>\n",
       "      <td>31</td>\n",
       "    </tr>\n",
       "    <tr>\n",
       "      <th>4998</th>\n",
       "      <td>4998</td>\n",
       "      <td>39</td>\n",
       "      <td>android</td>\n",
       "      <td>female</td>\n",
       "      <td>bra</td>\n",
       "      <td>31</td>\n",
       "    </tr>\n",
       "    <tr>\n",
       "      <th>4999</th>\n",
       "      <td>4999</td>\n",
       "      <td>29</td>\n",
       "      <td>android</td>\n",
       "      <td>female</td>\n",
       "      <td>bra</td>\n",
       "      <td>31</td>\n",
       "    </tr>\n",
       "  </tbody>\n",
       "</table>\n",
       "<p>5000 rows × 6 columns</p>\n",
       "</div>"
      ],
      "text/plain": [
       "      index  PRICE   SOURCE     SEX COUNTRY  AGE\n",
       "0         0     39  android    male     bra   17\n",
       "1         1     39  android    male     bra   17\n",
       "2         2     49  android    male     bra   17\n",
       "3         3     29  android    male     tur   17\n",
       "4         4     49  android    male     tur   17\n",
       "...     ...    ...      ...     ...     ...  ...\n",
       "4995   4995     29  android  female     bra   31\n",
       "4996   4996     29  android  female     bra   31\n",
       "4997   4997     29  android  female     bra   31\n",
       "4998   4998     39  android  female     bra   31\n",
       "4999   4999     29  android  female     bra   31\n",
       "\n",
       "[5000 rows x 6 columns]"
      ]
     },
     "execution_count": 51,
     "metadata": {},
     "output_type": "execute_result"
    }
   ],
   "source": [
    "df_reset = df.reset_index()\n",
    "df_reset"
   ]
  },
  {
   "cell_type": "markdown",
   "id": "e8d9c38b-722d-4c5b-ac55-e1e4566dec9c",
   "metadata": {},
   "source": [
    "Görev 14-)Age sayısal değişkenini kategorik\r\n",
    "değişkene çeviriniz.Örneğin: ‘0_18'\r\n",
    ",\r\n",
    "‘19_23'\r\n",
    ",\r\n",
    "'24_30'\r\n",
    ",\r\n",
    "'31_40'\r\n",
    ",\r\n",
    "'41_70'. Ve bunları AGE_CAT sütununa\r\n",
    "ekleyiniz. agg_df'e kaydediniz."
   ]
  },
  {
   "cell_type": "code",
   "execution_count": 54,
   "id": "234c4f8a-7831-46ee-9b71-8295c8ee0966",
   "metadata": {},
   "outputs": [
    {
     "data": {
      "text/html": [
       "<div>\n",
       "<style scoped>\n",
       "    .dataframe tbody tr th:only-of-type {\n",
       "        vertical-align: middle;\n",
       "    }\n",
       "\n",
       "    .dataframe tbody tr th {\n",
       "        vertical-align: top;\n",
       "    }\n",
       "\n",
       "    .dataframe thead th {\n",
       "        text-align: right;\n",
       "    }\n",
       "</style>\n",
       "<table border=\"1\" class=\"dataframe\">\n",
       "  <thead>\n",
       "    <tr style=\"text-align: right;\">\n",
       "      <th></th>\n",
       "      <th>index</th>\n",
       "      <th>PRICE</th>\n",
       "      <th>SOURCE</th>\n",
       "      <th>SEX</th>\n",
       "      <th>COUNTRY</th>\n",
       "      <th>AGE</th>\n",
       "      <th>age_cat</th>\n",
       "    </tr>\n",
       "  </thead>\n",
       "  <tbody>\n",
       "    <tr>\n",
       "      <th>0</th>\n",
       "      <td>0</td>\n",
       "      <td>39</td>\n",
       "      <td>android</td>\n",
       "      <td>male</td>\n",
       "      <td>bra</td>\n",
       "      <td>17</td>\n",
       "      <td>0_18</td>\n",
       "    </tr>\n",
       "    <tr>\n",
       "      <th>1</th>\n",
       "      <td>1</td>\n",
       "      <td>39</td>\n",
       "      <td>android</td>\n",
       "      <td>male</td>\n",
       "      <td>bra</td>\n",
       "      <td>17</td>\n",
       "      <td>0_18</td>\n",
       "    </tr>\n",
       "    <tr>\n",
       "      <th>2</th>\n",
       "      <td>2</td>\n",
       "      <td>49</td>\n",
       "      <td>android</td>\n",
       "      <td>male</td>\n",
       "      <td>bra</td>\n",
       "      <td>17</td>\n",
       "      <td>0_18</td>\n",
       "    </tr>\n",
       "    <tr>\n",
       "      <th>3</th>\n",
       "      <td>3</td>\n",
       "      <td>29</td>\n",
       "      <td>android</td>\n",
       "      <td>male</td>\n",
       "      <td>tur</td>\n",
       "      <td>17</td>\n",
       "      <td>0_18</td>\n",
       "    </tr>\n",
       "    <tr>\n",
       "      <th>4</th>\n",
       "      <td>4</td>\n",
       "      <td>49</td>\n",
       "      <td>android</td>\n",
       "      <td>male</td>\n",
       "      <td>tur</td>\n",
       "      <td>17</td>\n",
       "      <td>0_18</td>\n",
       "    </tr>\n",
       "    <tr>\n",
       "      <th>...</th>\n",
       "      <td>...</td>\n",
       "      <td>...</td>\n",
       "      <td>...</td>\n",
       "      <td>...</td>\n",
       "      <td>...</td>\n",
       "      <td>...</td>\n",
       "      <td>...</td>\n",
       "    </tr>\n",
       "    <tr>\n",
       "      <th>4995</th>\n",
       "      <td>4995</td>\n",
       "      <td>29</td>\n",
       "      <td>android</td>\n",
       "      <td>female</td>\n",
       "      <td>bra</td>\n",
       "      <td>31</td>\n",
       "      <td>31_40</td>\n",
       "    </tr>\n",
       "    <tr>\n",
       "      <th>4996</th>\n",
       "      <td>4996</td>\n",
       "      <td>29</td>\n",
       "      <td>android</td>\n",
       "      <td>female</td>\n",
       "      <td>bra</td>\n",
       "      <td>31</td>\n",
       "      <td>31_40</td>\n",
       "    </tr>\n",
       "    <tr>\n",
       "      <th>4997</th>\n",
       "      <td>4997</td>\n",
       "      <td>29</td>\n",
       "      <td>android</td>\n",
       "      <td>female</td>\n",
       "      <td>bra</td>\n",
       "      <td>31</td>\n",
       "      <td>31_40</td>\n",
       "    </tr>\n",
       "    <tr>\n",
       "      <th>4998</th>\n",
       "      <td>4998</td>\n",
       "      <td>39</td>\n",
       "      <td>android</td>\n",
       "      <td>female</td>\n",
       "      <td>bra</td>\n",
       "      <td>31</td>\n",
       "      <td>31_40</td>\n",
       "    </tr>\n",
       "    <tr>\n",
       "      <th>4999</th>\n",
       "      <td>4999</td>\n",
       "      <td>29</td>\n",
       "      <td>android</td>\n",
       "      <td>female</td>\n",
       "      <td>bra</td>\n",
       "      <td>31</td>\n",
       "      <td>31_40</td>\n",
       "    </tr>\n",
       "  </tbody>\n",
       "</table>\n",
       "<p>5000 rows × 7 columns</p>\n",
       "</div>"
      ],
      "text/plain": [
       "      index  PRICE   SOURCE     SEX COUNTRY  AGE age_cat\n",
       "0         0     39  android    male     bra   17    0_18\n",
       "1         1     39  android    male     bra   17    0_18\n",
       "2         2     49  android    male     bra   17    0_18\n",
       "3         3     29  android    male     tur   17    0_18\n",
       "4         4     49  android    male     tur   17    0_18\n",
       "...     ...    ...      ...     ...     ...  ...     ...\n",
       "4995   4995     29  android  female     bra   31   31_40\n",
       "4996   4996     29  android  female     bra   31   31_40\n",
       "4997   4997     29  android  female     bra   31   31_40\n",
       "4998   4998     39  android  female     bra   31   31_40\n",
       "4999   4999     29  android  female     bra   31   31_40\n",
       "\n",
       "[5000 rows x 7 columns]"
      ]
     },
     "execution_count": 54,
     "metadata": {},
     "output_type": "execute_result"
    }
   ],
   "source": [
    "bins=[0,18,23,30,40,df_reset[\"AGE\"].max()]\n",
    "mylabels=[\"0_18\",\"18_23\",\"23_30\",\"31_40\",\"41_\"+str(df_reset[\"AGE\"].max())]\n",
    "df_reset[\"age_cat\"]=pd.cut(df_reset[\"AGE\"],bins,labels=mylabels)\n",
    "df_reset"
   ]
  },
  {
   "cell_type": "markdown",
   "id": "078f79de-3873-4cc8-8c93-6f37e0d387af",
   "metadata": {},
   "source": [
    "Görev 15-)Yeni seviye tabanlı müşterileri (persona)\n",
    "tanımlayınız ve veri setine değişken olarak ekleyiniz.\n",
    "• Yeni eklenecek değişkenin adı:\n",
    "customers_level_based\n",
    "• Önceki soruda elde edeceğiniz çıktıdaki gözlemleri\n",
    "bir araya getirerek customers_level_based\n",
    "değişkenini oluşturmanız gerekmektedir.\n"
   ]
  },
  {
   "cell_type": "code",
   "execution_count": 55,
   "id": "6cb36e9b-b4ce-4003-89ef-490542075ee2",
   "metadata": {},
   "outputs": [],
   "source": [
    "df_reset[\"customers_level_based\"]=df_reset[[\"COUNTRY\",\"SOURCE\",\"SEX\",\"age_cat\"]].agg(\n",
    "    lambda x:\"_\".join(x).upper(),axis=1\n",
    ")"
   ]
  },
  {
   "cell_type": "code",
   "execution_count": 89,
   "id": "52f8ee71-6548-4fc3-8455-8ad06fde14b1",
   "metadata": {},
   "outputs": [
    {
     "data": {
      "text/html": [
       "<div>\n",
       "<style scoped>\n",
       "    .dataframe tbody tr th:only-of-type {\n",
       "        vertical-align: middle;\n",
       "    }\n",
       "\n",
       "    .dataframe tbody tr th {\n",
       "        vertical-align: top;\n",
       "    }\n",
       "\n",
       "    .dataframe thead th {\n",
       "        text-align: right;\n",
       "    }\n",
       "</style>\n",
       "<table border=\"1\" class=\"dataframe\">\n",
       "  <thead>\n",
       "    <tr style=\"text-align: right;\">\n",
       "      <th></th>\n",
       "      <th>customers_level_based</th>\n",
       "      <th>PRICE</th>\n",
       "    </tr>\n",
       "  </thead>\n",
       "  <tbody>\n",
       "    <tr>\n",
       "      <th>0</th>\n",
       "      <td>BRA_ANDROID_FEMALE_0_18</td>\n",
       "      <td>35.439394</td>\n",
       "    </tr>\n",
       "    <tr>\n",
       "      <th>1</th>\n",
       "      <td>BRA_ANDROID_FEMALE_18_23</td>\n",
       "      <td>34.114943</td>\n",
       "    </tr>\n",
       "    <tr>\n",
       "      <th>2</th>\n",
       "      <td>BRA_ANDROID_FEMALE_23_30</td>\n",
       "      <td>34.540541</td>\n",
       "    </tr>\n",
       "    <tr>\n",
       "      <th>3</th>\n",
       "      <td>BRA_ANDROID_FEMALE_31_40</td>\n",
       "      <td>34.696203</td>\n",
       "    </tr>\n",
       "    <tr>\n",
       "      <th>4</th>\n",
       "      <td>BRA_ANDROID_FEMALE_41_66</td>\n",
       "      <td>35.086957</td>\n",
       "    </tr>\n",
       "  </tbody>\n",
       "</table>\n",
       "</div>"
      ],
      "text/plain": [
       "      customers_level_based      PRICE\n",
       "0   BRA_ANDROID_FEMALE_0_18  35.439394\n",
       "1  BRA_ANDROID_FEMALE_18_23  34.114943\n",
       "2  BRA_ANDROID_FEMALE_23_30  34.540541\n",
       "3  BRA_ANDROID_FEMALE_31_40  34.696203\n",
       "4  BRA_ANDROID_FEMALE_41_66  35.086957"
      ]
     },
     "execution_count": 89,
     "metadata": {},
     "output_type": "execute_result"
    }
   ],
   "source": [
    "# birleştirerek büyük harfe dönüştürüp yeni bir customers_level_based sütunu oluşturur. \n",
    "\n",
    "df_reset=df_reset.groupby(\"customers_level_based\").agg({\"PRICE\":\"mean\"})\n",
    "# her grup için ortalama fiyat değerlerini içeren yeni bir DataFrame oluşturur\n",
    "#tekilleştirme işlemi yaptım \n",
    "df_reset=df_reset.reset_index()\n",
    "df_reset.head()\n",
    "#customer level basedi indexteydi onu sutuna cektim"
   ]
  },
  {
   "cell_type": "markdown",
   "id": "34fdcd26-f522-48d1-88cc-cd024292ace5",
   "metadata": {},
   "source": [
    "Görev 16-)Yeni müşterileri (Örnek:\n",
    "USA_ANDROID_MALE_0_18) PRICE’a\n",
    "göre 4 segmente ayırınız."
   ]
  },
  {
   "cell_type": "code",
   "execution_count": 58,
   "id": "92fec6b9-b7f7-444c-b626-e66a5d9c09f2",
   "metadata": {},
   "outputs": [
    {
     "name": "stderr",
     "output_type": "stream",
     "text": [
      "C:\\Users\\LENOVO\\AppData\\Local\\Temp\\ipykernel_27872\\1331146109.py:4: FutureWarning: The default of observed=False is deprecated and will be changed to True in a future version of pandas. Pass observed=False to retain current behavior or observed=True to adopt the future default and silence this warning.\n",
      "  df_reset.groupby(\"SEGMENT\").agg({\"PRICE\":\"mean\"})\n"
     ]
    },
    {
     "data": {
      "text/html": [
       "<div>\n",
       "<style scoped>\n",
       "    .dataframe tbody tr th:only-of-type {\n",
       "        vertical-align: middle;\n",
       "    }\n",
       "\n",
       "    .dataframe tbody tr th {\n",
       "        vertical-align: top;\n",
       "    }\n",
       "\n",
       "    .dataframe thead th {\n",
       "        text-align: right;\n",
       "    }\n",
       "</style>\n",
       "<table border=\"1\" class=\"dataframe\">\n",
       "  <thead>\n",
       "    <tr style=\"text-align: right;\">\n",
       "      <th></th>\n",
       "      <th>PRICE</th>\n",
       "    </tr>\n",
       "    <tr>\n",
       "      <th>SEGMENT</th>\n",
       "      <th></th>\n",
       "    </tr>\n",
       "  </thead>\n",
       "  <tbody>\n",
       "    <tr>\n",
       "      <th>D</th>\n",
       "      <td>30.113161</td>\n",
       "    </tr>\n",
       "    <tr>\n",
       "      <th>C</th>\n",
       "      <td>33.512842</td>\n",
       "    </tr>\n",
       "    <tr>\n",
       "      <th>B</th>\n",
       "      <td>34.681428</td>\n",
       "    </tr>\n",
       "    <tr>\n",
       "      <th>A</th>\n",
       "      <td>37.544294</td>\n",
       "    </tr>\n",
       "  </tbody>\n",
       "</table>\n",
       "</div>"
      ],
      "text/plain": [
       "             PRICE\n",
       "SEGMENT           \n",
       "D        30.113161\n",
       "C        33.512842\n",
       "B        34.681428\n",
       "A        37.544294"
      ]
     },
     "execution_count": 58,
     "metadata": {},
     "output_type": "execute_result"
    }
   ],
   "source": [
    "df_reset[\"SEGMENT\"]=pd.qcut(df_reset[\"PRICE\"],4,labels=[\"D\",\"C\",\"B\",\"A\"])\n",
    "#4 SEGMENT OLUŞTURDUM PRICE A GORE \n",
    "df_reset.head(30)\n",
    "df_reset.groupby(\"SEGMENT\").agg({\"PRICE\":\"mean\"})"
   ]
  },
  {
   "cell_type": "markdown",
   "id": "158ad254-68fa-450d-bbe5-f01da378c6e0",
   "metadata": {},
   "source": [
    "Görev 15-) 35 yaşında IOS kullanan\n",
    "Amerikan kadın hangi segmente aittir\n",
    "ve ortalama ne kadar gelir\n",
    "kazandırması beklenir?\n"
   ]
  },
  {
   "cell_type": "code",
   "execution_count": 60,
   "id": "9fea1541-6737-4fa0-b046-ca26ead30e50",
   "metadata": {},
   "outputs": [
    {
     "data": {
      "text/html": [
       "<div>\n",
       "<style scoped>\n",
       "    .dataframe tbody tr th:only-of-type {\n",
       "        vertical-align: middle;\n",
       "    }\n",
       "\n",
       "    .dataframe tbody tr th {\n",
       "        vertical-align: top;\n",
       "    }\n",
       "\n",
       "    .dataframe thead th {\n",
       "        text-align: right;\n",
       "    }\n",
       "</style>\n",
       "<table border=\"1\" class=\"dataframe\">\n",
       "  <thead>\n",
       "    <tr style=\"text-align: right;\">\n",
       "      <th></th>\n",
       "      <th>customers_level_based</th>\n",
       "      <th>PRICE</th>\n",
       "      <th>SEGMENT</th>\n",
       "    </tr>\n",
       "  </thead>\n",
       "  <tbody>\n",
       "    <tr>\n",
       "      <th>102</th>\n",
       "      <td>USA_IOS_FEMALE_31_40</td>\n",
       "      <td>31.307692</td>\n",
       "      <td>D</td>\n",
       "    </tr>\n",
       "  </tbody>\n",
       "</table>\n",
       "</div>"
      ],
      "text/plain": [
       "    customers_level_based      PRICE SEGMENT\n",
       "102  USA_IOS_FEMALE_31_40  31.307692       D"
      ]
     },
     "execution_count": 60,
     "metadata": {},
     "output_type": "execute_result"
    }
   ],
   "source": [
    "new_user=\"USA_IOS_FEMALE_31_40\"\n",
    "df_reset[df_reset[\"customers_level_based\"]==new_user]"
   ]
  },
  {
   "cell_type": "markdown",
   "id": "cf0a3e12-2b78-4e6e-b175-5d41556218d8",
   "metadata": {},
   "source": [
    "Görev 16-)19 yaşında ANDROID\n",
    "kullanan Türk erkek hangi segmente\n",
    "aittir ve ortalama ne kadar gelir\n",
    "kazandırması beklenir?\n"
   ]
  },
  {
   "cell_type": "code",
   "execution_count": 68,
   "id": "2729af42-a786-4f91-bf08-b1cd540f039e",
   "metadata": {},
   "outputs": [
    {
     "data": {
      "text/html": [
       "<div>\n",
       "<style scoped>\n",
       "    .dataframe tbody tr th:only-of-type {\n",
       "        vertical-align: middle;\n",
       "    }\n",
       "\n",
       "    .dataframe tbody tr th {\n",
       "        vertical-align: top;\n",
       "    }\n",
       "\n",
       "    .dataframe thead th {\n",
       "        text-align: right;\n",
       "    }\n",
       "</style>\n",
       "<table border=\"1\" class=\"dataframe\">\n",
       "  <thead>\n",
       "    <tr style=\"text-align: right;\">\n",
       "      <th></th>\n",
       "      <th>customers_level_based</th>\n",
       "      <th>PRICE</th>\n",
       "      <th>SEGMENT</th>\n",
       "    </tr>\n",
       "  </thead>\n",
       "  <tbody>\n",
       "    <tr>\n",
       "      <th>75</th>\n",
       "      <td>TUR_ANDROID_MALE_18_23</td>\n",
       "      <td>34.384615</td>\n",
       "      <td>B</td>\n",
       "    </tr>\n",
       "  </tbody>\n",
       "</table>\n",
       "</div>"
      ],
      "text/plain": [
       "     customers_level_based      PRICE SEGMENT\n",
       "75  TUR_ANDROID_MALE_18_23  34.384615       B"
      ]
     },
     "execution_count": 68,
     "metadata": {},
     "output_type": "execute_result"
    }
   ],
   "source": [
    "new_user=\"TUR_ANDROID_MALE_18_23\"\n",
    "df_reset[df_reset[\"customers_level_based\"]==new_user]"
   ]
  },
  {
   "cell_type": "markdown",
   "id": "98b03671-c552-4104-898e-dd1497f4c254",
   "metadata": {},
   "source": [
    "---------GÖRSELLEŞTİRME GÖREVLERİ---------\n",
    "\n",
    "Ülke ve cinsiyete göre ortalama\n",
    "harcama miktarını gösteren bir çizgi\n",
    "grafik oluşturun."
   ]
  },
  {
   "cell_type": "code",
   "execution_count": 79,
   "id": "8b5f9f2e-eaf3-486e-ba7a-6175887189f6",
   "metadata": {},
   "outputs": [
    {
     "name": "stderr",
     "output_type": "stream",
     "text": [
      "C:\\Users\\LENOVO\\anaconda3\\Lib\\site-packages\\seaborn\\_oldcore.py:1119: FutureWarning: use_inf_as_na option is deprecated and will be removed in a future version. Convert inf values to NaN before operating instead.\n",
      "  with pd.option_context('mode.use_inf_as_na', True):\n",
      "C:\\Users\\LENOVO\\anaconda3\\Lib\\site-packages\\seaborn\\_oldcore.py:1119: FutureWarning: use_inf_as_na option is deprecated and will be removed in a future version. Convert inf values to NaN before operating instead.\n",
      "  with pd.option_context('mode.use_inf_as_na', True):\n"
     ]
    },
    {
     "data": {
      "image/png": "[encoded data removed]",
      "text/plain": [
       "<Figure size 1000x600 with 1 Axes>"
      ]
     },
     "metadata": {},
     "output_type": "display_data"
    }
   ],
   "source": [
    "import matplotlib.pyplot as plt\n",
    "import seaborn as sns\n",
    "grouped_data = df.groupby(['COUNTRY', 'SEX'])['PRICE'].mean().reset_index()\n",
    "\n",
    "plt.figure(figsize=(10, 6))\n",
    "sns.lineplot(data=grouped_data, x='COUNTRY', y='PRICE', hue='SEX', marker='o')\n",
    "\n",
    "plt.title('Ülke ve Cinsiyete Göre Ortalama Harcama Miktarı')\n",
    "plt.xlabel('Ülke')\n",
    "plt.ylabel('Ortalama Harcama Miktarı')\n",
    "plt.show()\n"
   ]
  },
  {
   "cell_type": "markdown",
   "id": "b5d0802b-1f6c-454b-b826-9fa50f86da58",
   "metadata": {},
   "source": [
    "Yaş ve harcama miktarı arasındaki\n",
    "ilişkiyi gösteren bir scatter plot\n",
    "oluşturun."
   ]
  },
  {
   "cell_type": "code",
   "execution_count": 80,
   "id": "03af628c-fe4f-4c54-a65a-8b19bb6456f5",
   "metadata": {},
   "outputs": [
    {
     "data": {
      "text/plain": [
       "Text(0, 0.5, 'Harcama Miktarı')"
      ]
     },
     "execution_count": 80,
     "metadata": {},
     "output_type": "execute_result"
    },
    {
     "data": {
      "image/png": "[encoded data removed]",
      "text/plain": [
       "<Figure size 640x480 with 1 Axes>"
      ]
     },
     "metadata": {},
     "output_type": "display_data"
    }
   ],
   "source": [
    "sns.scatterplot(data=df, x='AGE', y='PRICE')\n",
    "plt.title('Yaş ve Harcama Miktarı Arasındaki İlişki')\n",
    "plt.xlabel('Yaş')\n",
    "plt.ylabel('Harcama Miktarı')"
   ]
  },
  {
   "cell_type": "markdown",
   "id": "5ea4637c-6358-4717-86bd-caa7a8d56c20",
   "metadata": {},
   "source": [
    "Ülke bazında kullanıcı dağılımını gösteren\n",
    "bir çubuk grafik oluşturun."
   ]
  },
  {
   "cell_type": "code",
   "execution_count": 77,
   "id": "a7666d25-0864-4274-b2da-ea51c65895bd",
   "metadata": {},
   "outputs": [
    {
     "data": {
      "text/plain": [
       "Text(0, 0.5, 'Kullanıcı Sayısı')"
      ]
     },
     "execution_count": 77,
     "metadata": {},
     "output_type": "execute_result"
    },
    {
     "data": {
      "image/png": "[encoded data removed]",
      "text/plain": [
       "<Figure size 1000x600 with 1 Axes>"
      ]
     },
     "metadata": {},
     "output_type": "display_data"
    }
   ],
   "source": [
    "country_counts = df['COUNTRY'].value_counts()\n",
    "plt.figure(figsize=(10, 6))\n",
    "sns.barplot(x=country_counts.index, y=country_counts.values)\n",
    "plt.title('Ülke Bazında Kullanıcı Dağılımı')\n",
    "plt.xlabel('Ülke')\n",
    "plt.ylabel('Kullanıcı Sayısı')\n"
   ]
  },
  {
   "cell_type": "markdown",
   "id": "1e042e4a-4819-46dc-80c1-1d275a1b2a65",
   "metadata": {},
   "source": [
    "Cihaz türüne göre kullanıcı sayısını\n",
    "gösteren bir pasta grafik oluşturun."
   ]
  },
  {
   "cell_type": "code",
   "execution_count": 83,
   "id": "6d913fb7-6ff0-4cb7-8a0c-c18b3d54821a",
   "metadata": {},
   "outputs": [
    {
     "data": {
      "text/plain": [
       "Text(0.5, 1.0, 'Cihaz Türüne Göre Kullanıcı Dağılımı')"
      ]
     },
     "execution_count": 83,
     "metadata": {},
     "output_type": "execute_result"
    },
    {
     "data": {
      "image/png": "[encoded data removed]",
      "text/plain": [
       "<Figure size 800x800 with 1 Axes>"
      ]
     },
     "metadata": {},
     "output_type": "display_data"
    }
   ],
   "source": [
    "device_counts = df['SOURCE'].value_counts()\n",
    "plt.figure(figsize=(8, 8))\n",
    "plt.pie(device_counts, labels=device_counts.index, autopct='%1.1f%%')\n",
    "plt.title('Cihaz Türüne Göre Kullanıcı Dağılımı')\n"
   ]
  },
  {
   "cell_type": "markdown",
   "id": "7b26355d-0dac-4c9a-b01e-e4a8fda254ec",
   "metadata": {},
   "source": [
    "Yaş dağılımını gösteren bir histogram\n",
    "oluşturun."
   ]
  },
  {
   "cell_type": "code",
   "execution_count": 84,
   "id": "ee0b491f-4c38-4d8b-967d-812b064f5547",
   "metadata": {},
   "outputs": [
    {
     "data": {
      "text/plain": [
       "Text(0, 0.5, 'Kullanıcı Sayısı')"
      ]
     },
     "execution_count": 84,
     "metadata": {},
     "output_type": "execute_result"
    },
    {
     "data": {
      "image/png": "[encoded data removed]",
      "text/plain": [
       "<Figure size 640x480 with 1 Axes>"
      ]
     },
     "metadata": {},
     "output_type": "display_data"
    }
   ],
   "source": [
    "plt.hist(df['AGE'], bins=10, edgecolor='black')\n",
    "plt.title('Yaş Dağılımı')\n",
    "plt.xlabel('Yaş')\n",
    "plt.ylabel('Kullanıcı Sayısı')"
   ]
  },
  {
   "cell_type": "markdown",
   "id": "39047936-c06d-4fe7-998e-9bde2275f8c2",
   "metadata": {},
   "source": [
    "Ülke ve cihaz türü kombinasyonuna\n",
    "göre kullanıcı sayısını gösteren bir ısı\n",
    "haritası oluşturun."
   ]
  },
  {
   "cell_type": "code",
   "execution_count": 91,
   "id": "a3d4f187-dbc0-49c9-8417-68a2f61cffe6",
   "metadata": {},
   "outputs": [
    {
     "data": {
      "text/plain": [
       "Text(0.5, 1.0, 'Ülke ve Cihaz Türü Kombinasyonuna Göre Kullanıcı Sayısı')"
      ]
     },
     "execution_count": 91,
     "metadata": {},
     "output_type": "execute_result"
    },
    {
     "data": {
      "image/png": "[encoded data removed]",
      "text/plain": [
       "<Figure size 800x600 with 2 Axes>"
      ]
     },
     "metadata": {},
     "output_type": "display_data"
    }
   ],
   "source": [
    "user_counts = df.groupby(['COUNTRY', 'SOURCE']).size().reset_index(name='USER_COUNT')\n",
    "\n",
    "pivot_table = user_counts.pivot(index='COUNTRY', columns='SOURCE', values='USER_COUNT')\n",
    "\n",
    "plt.figure(figsize=(8, 6))\n",
    "sns.heatmap(pivot_table, annot=True, cmap='coolwarm', fmt='d', linewidths=0.5)\n",
    "\n",
    "\n",
    "plt.title('Ülke ve Cihaz Türü Kombinasyonuna Göre Kullanıcı Sayısı')\n"
   ]
  },
  {
   "cell_type": "markdown",
   "id": "ecd19d85-5e25-49b1-aff7-5e7c6497ab95",
   "metadata": {},
   "source": [
    "En çok harcama yapan 10 ülkeyi\n",
    "gösteren bir sütun grafiği oluşturun."
   ]
  },
  {
   "cell_type": "code",
   "execution_count": 88,
   "id": "783f753e-c5ed-4bb0-9767-7201325e01cc",
   "metadata": {},
   "outputs": [
    {
     "data": {
      "text/plain": [
       "Text(0, 0.5, 'Toplam Harcama')"
      ]
     },
     "execution_count": 88,
     "metadata": {},
     "output_type": "execute_result"
    },
    {
     "data": {
      "image/png": "[encoded data removed]",
      "text/plain": [
       "<Figure size 1000x600 with 1 Axes>"
      ]
     },
     "metadata": {},
     "output_type": "display_data"
    }
   ],
   "source": [
    "country_spending = df.groupby('COUNTRY')['PRICE'].sum().sort_values(ascending=False)\n",
    "\n",
    "# En yüksek harcama yapan ilk 10 ülkeyi seçme\n",
    "top_10_countries = country_spending.head(10)\n",
    "\n",
    "# Sütun grafiği oluşturma\n",
    "plt.figure(figsize=(10, 6))\n",
    "top_10_countries.plot(kind='bar', color='skyblue')\n",
    "\n",
    "# Grafik başlığı ve etiketler\n",
    "plt.title('En Çok Harcama Yapan 10 Ülke', fontsize=14)\n",
    "plt.xlabel('Ülke', fontsize=12)\n",
    "plt.ylabel('Toplam Harcama', fontsize=12)\n"
   ]
  },
  {
   "cell_type": "code",
   "execution_count": null,
   "id": "a23060dd-4c89-41e0-aed6-081d2288663d",
   "metadata": {},
   "outputs": [],
   "source": []
  }
 ],
 "metadata": {
  "kernelspec": {
   "display_name": "Python 3 (ipykernel)",
   "language": "python",
   "name": "python3"
  },
  "language_info": {
   "codemirror_mode": {
    "name": "ipython",
    "version": 3
   },
   "file_extension": ".py",
   "mimetype": "text/x-python",
   "name": "python",
   "nbconvert_exporter": "python",
   "pygments_lexer": "ipython3",
   "version": "3.11.7"
  }
 },
 "nbformat": 4,
 "nbformat_minor": 5
}
